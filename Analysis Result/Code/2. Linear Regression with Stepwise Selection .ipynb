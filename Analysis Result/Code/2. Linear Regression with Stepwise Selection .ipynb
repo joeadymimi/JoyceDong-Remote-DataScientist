{
 "cells": [
  {
   "cell_type": "code",
   "execution_count": 1,
   "metadata": {},
   "outputs": [],
   "source": [
    "# Import library\n",
    "import pandas  as pd #Data manipulation\n",
    "import numpy as np #Data manipulation\n",
    "import matplotlib.pyplot as plt # Visualization\n",
    "import seaborn as sns #Visualization\n",
    "import statsmodels.api as sm  #reg model\n",
    "import statsmodels.stats.diagnostic as dg\n",
    "plt.rcParams['figure.figsize'] = [8,5]\n",
    "plt.rcParams['font.size'] =14\n",
    "plt.rcParams['font.weight']= 'bold'\n",
    "plt.style.use('seaborn-whitegrid')"
   ]
  },
  {
   "cell_type": "code",
   "execution_count": 2,
   "metadata": {},
   "outputs": [],
   "source": [
    "path = 'C:/Users/czlni/Desktop/'\n",
    "df_Sklearn = pd.read_csv(path+'df_Sklearn.csv')\n",
    "df_encode = pd.read_csv(path+'df_encode.csv')\n",
    "#df_Sklearn.to_csv('C:/Users/czlni/Desktop/df_Sklearn.csv')\n",
    "#df_encode.to_csv('C:/Users/czlni/Desktop/df_encode.csv')"
   ]
  },
  {
   "cell_type": "markdown",
   "metadata": {},
   "source": [
    "Consider log of price as dependent variable:"
   ]
  },
  {
   "cell_type": "code",
   "execution_count": 3,
   "metadata": {},
   "outputs": [],
   "source": [
    "x = df_encode.drop(columns=['log_price','price']) # Independet variable\n",
    "y = df_encode['log_price'] # dependent variable"
   ]
  },
  {
   "cell_type": "markdown",
   "metadata": {},
   "source": [
    "Build a multi regression model with stepwise selection."
   ]
  },
  {
   "cell_type": "code",
   "execution_count": 5,
   "metadata": {},
   "outputs": [],
   "source": [
    "def stepwise_selection(X, y, \n",
    "                       initial_list=[], \n",
    "                       threshold_in=0.01, \n",
    "                       threshold_out = 0.05, \n",
    "                       verbose=True):\n",
    "    \"\"\" Perform a forward-backward feature selection \n",
    "    based on p-value from statsmodels.api.OLS\n",
    "    Arguments:\n",
    "        X - pandas.DataFrame with candidate features\n",
    "        y - list-like with the target\n",
    "        initial_list - list of features to start with (column names of X)\n",
    "        threshold_in - include a feature if its p-value < threshold_in\n",
    "        threshold_out - exclude a feature if its p-value > threshold_out\n",
    "        verbose - whether to print the sequence of inclusions and exclusions\n",
    "    Returns: list of selected features \n",
    "    Always set threshold_in < threshold_out to avoid infinite looping.\n",
    "    See https://en.wikipedia.org/wiki/Stepwise_regression for the details\n",
    "    \"\"\"\n",
    "    included = list(initial_list)\n",
    "    while True:\n",
    "        changed=False\n",
    "        # forward step\n",
    "        excluded = list(set(X.columns)-set(included))\n",
    "        new_pval = pd.Series(index=excluded)\n",
    "        for new_column in excluded:\n",
    "            model = sm.OLS(y, sm.add_constant(pd.DataFrame(X[included+[new_column]]))).fit()\n",
    "            new_pval[new_column] = model.pvalues[new_column]\n",
    "        best_pval = new_pval.min()\n",
    "        if best_pval < threshold_in:\n",
    "            best_feature = new_pval.argmin()\n",
    "            included.append(best_feature)\n",
    "            changed=True\n",
    "            if verbose:\n",
    "                print('Add  {:30} with p-value {:.6}'.format(best_feature, best_pval))\n",
    "\n",
    "        # backward step\n",
    "        model = sm.OLS(y, sm.add_constant(pd.DataFrame(X[included]))).fit()\n",
    "        # use all coefs except intercept\n",
    "        pvalues = model.pvalues.iloc[1:]\n",
    "        worst_pval = pvalues.max() # null if pvalues is empty\n",
    "        if worst_pval > threshold_out:\n",
    "            changed=True\n",
    "            worst_feature = pvalues.argmax()\n",
    "            included.remove(worst_feature)\n",
    "            if verbose:\n",
    "                print('Drop {:30} with p-value {:.6}'.format(worst_feature, worst_pval))\n",
    "        if not changed:\n",
    "            break\n",
    "    return included\n"
   ]
  },
  {
   "cell_type": "code",
   "execution_count": 6,
   "metadata": {},
   "outputs": [
    {
     "name": "stderr",
     "output_type": "stream",
     "text": [
      "C:\\Users\\czlni\\Anaconda3\\lib\\site-packages\\numpy\\core\\fromnumeric.py:2580: FutureWarning: Method .ptp is deprecated and will be removed in a future version. Use numpy.ptp instead.\n",
      "  return ptp(axis=axis, out=out, **kwargs)\n",
      "C:\\Users\\czlni\\Anaconda3\\lib\\site-packages\\ipykernel_launcher.py:30: FutureWarning: \n",
      "The current behaviour of 'Series.argmin' is deprecated, use 'idxmin'\n",
      "instead.\n",
      "The behavior of 'argmin' will be corrected to return the positional\n",
      "minimum in the future. For now, use 'series.values.argmin' or\n",
      "'np.argmin(np.array(values))' to get the position of the minimum\n",
      "row.\n"
     ]
    },
    {
     "name": "stdout",
     "output_type": "stream",
     "text": [
      "Add  para3                          with p-value 0.0\n",
      "Add  para4                          with p-value 0.0\n",
      "Drop para3                          with p-value 0.390461\n"
     ]
    },
    {
     "name": "stderr",
     "output_type": "stream",
     "text": [
      "C:\\Users\\czlni\\Anaconda3\\lib\\site-packages\\ipykernel_launcher.py:43: FutureWarning: \n",
      "The current behaviour of 'Series.argmax' is deprecated, use 'idxmax'\n",
      "instead.\n",
      "The behavior of 'argmax' will be corrected to return the positional\n",
      "maximum in the future. For now, use 'series.values.argmax' or\n",
      "'np.argmax(np.array(values))' to get the position of the maximum\n",
      "row.\n"
     ]
    },
    {
     "name": "stdout",
     "output_type": "stream",
     "text": [
      "Add  para2                          with p-value 0.0\n",
      "Add  loc1_5                         with p-value 3.38911e-22\n",
      "Add  loc2_19                        with p-value 1.68761e-17\n",
      "Add  loc1_2                         with p-value 1.36338e-12\n",
      "Add  loc2_35                        with p-value 1.92305e-08\n",
      "Add  loc2_39                        with p-value 1.87991e-06\n",
      "Add  loc2_06                        with p-value 1.1297e-06\n",
      "Add  loc2_17                        with p-value 3.42644e-05\n",
      "Add  loc2_01                        with p-value 5.21149e-05\n",
      "Add  loc2_23                        with p-value 6.64643e-05\n",
      "Add  loc2_54                        with p-value 0.000120365\n",
      "Add  para1                          with p-value 0.00013064\n",
      "Add  loc2_73                        with p-value 0.000167\n",
      "Add  loc2_89                        with p-value 0.000261768\n",
      "Add  para3                          with p-value 0.000123589\n",
      "Add  loc2_95                        with p-value 0.000218162\n",
      "Add  loc2_40                        with p-value 0.00134913\n",
      "Add  loc2_09                        with p-value 0.00220605\n",
      "Add  loc2_63                        with p-value 0.00165074\n",
      "Add  loc2_16                        with p-value 0.00531623\n",
      "Add  loc2_0T                        with p-value 0.00870497\n",
      "Add  loc2_02                        with p-value 0.00929552\n"
     ]
    }
   ],
   "source": [
    "result = stepwise_selection(x, y)"
   ]
  },
  {
   "cell_type": "code",
   "execution_count": 7,
   "metadata": {},
   "outputs": [
    {
     "name": "stdout",
     "output_type": "stream",
     "text": [
      "resulting features:\n",
      "['para4', 'para2', 'loc1_5', 'loc2_19', 'loc1_2', 'loc2_35', 'loc2_39', 'loc2_06', 'loc2_17', 'loc2_01', 'loc2_23', 'loc2_54', 'para1', 'loc2_73', 'loc2_89', 'para3', 'loc2_95', 'loc2_40', 'loc2_09', 'loc2_63', 'loc2_16', 'loc2_0T', 'loc2_02']\n"
     ]
    }
   ],
   "source": [
    "print('resulting features:')\n",
    "print(result)"
   ]
  },
  {
   "cell_type": "code",
   "execution_count": 9,
   "metadata": {},
   "outputs": [],
   "source": [
    "x_selected=df_encode[result]"
   ]
  },
  {
   "cell_type": "markdown",
   "metadata": {},
   "source": [
    "Build a regression model based on the selected variables."
   ]
  },
  {
   "cell_type": "code",
   "execution_count": 10,
   "metadata": {},
   "outputs": [
    {
     "data": {
      "text/html": [
       "<table class=\"simpletable\">\n",
       "<caption>OLS Regression Results</caption>\n",
       "<tr>\n",
       "  <th>Dep. Variable:</th>        <td>log_price</td>    <th>  R-squared (uncentered):</th>      <td>   0.929</td> \n",
       "</tr>\n",
       "<tr>\n",
       "  <th>Model:</th>                   <td>OLS</td>       <th>  Adj. R-squared (uncentered):</th> <td>   0.929</td> \n",
       "</tr>\n",
       "<tr>\n",
       "  <th>Method:</th>             <td>Least Squares</td>  <th>  F-statistic:       </th>          <td>   5680.</td> \n",
       "</tr>\n",
       "<tr>\n",
       "  <th>Date:</th>             <td>Sun, 22 May 2022</td> <th>  Prob (F-statistic):</th>           <td>  0.00</td>  \n",
       "</tr>\n",
       "<tr>\n",
       "  <th>Time:</th>                 <td>21:12:39</td>     <th>  Log-Likelihood:    </th>          <td> -18782.</td> \n",
       "</tr>\n",
       "<tr>\n",
       "  <th>No. Observations:</th>      <td> 10000</td>      <th>  AIC:               </th>          <td>3.761e+04</td>\n",
       "</tr>\n",
       "<tr>\n",
       "  <th>Df Residuals:</th>          <td>  9977</td>      <th>  BIC:               </th>          <td>3.778e+04</td>\n",
       "</tr>\n",
       "<tr>\n",
       "  <th>Df Model:</th>              <td>    23</td>      <th>                     </th>              <td> </td>    \n",
       "</tr>\n",
       "<tr>\n",
       "  <th>Covariance Type:</th>      <td>nonrobust</td>    <th>                     </th>              <td> </td>    \n",
       "</tr>\n",
       "</table>\n",
       "<table class=\"simpletable\">\n",
       "<tr>\n",
       "     <td></td>        <th>coef</th>     <th>std err</th>      <th>t</th>      <th>P>|t|</th>  <th>[0.025</th>    <th>0.975]</th>  \n",
       "</tr>\n",
       "<tr>\n",
       "  <th>para4</th>   <td>    0.2761</td> <td>    0.004</td> <td>   64.227</td> <td> 0.000</td> <td>    0.268</td> <td>    0.285</td>\n",
       "</tr>\n",
       "<tr>\n",
       "  <th>para2</th>   <td>    0.0059</td> <td> 5.47e-05</td> <td>  107.633</td> <td> 0.000</td> <td>    0.006</td> <td>    0.006</td>\n",
       "</tr>\n",
       "<tr>\n",
       "  <th>loc1_5</th>  <td>    1.1713</td> <td>    0.059</td> <td>   19.771</td> <td> 0.000</td> <td>    1.055</td> <td>    1.287</td>\n",
       "</tr>\n",
       "<tr>\n",
       "  <th>loc2_19</th> <td>    1.1242</td> <td>    0.132</td> <td>    8.523</td> <td> 0.000</td> <td>    0.866</td> <td>    1.383</td>\n",
       "</tr>\n",
       "<tr>\n",
       "  <th>loc1_2</th>  <td>    0.9391</td> <td>    0.047</td> <td>   20.134</td> <td> 0.000</td> <td>    0.848</td> <td>    1.030</td>\n",
       "</tr>\n",
       "<tr>\n",
       "  <th>loc2_35</th> <td>    1.4631</td> <td>    0.147</td> <td>    9.953</td> <td> 0.000</td> <td>    1.175</td> <td>    1.751</td>\n",
       "</tr>\n",
       "<tr>\n",
       "  <th>loc2_39</th> <td>    1.3642</td> <td>    0.133</td> <td>   10.286</td> <td> 0.000</td> <td>    1.104</td> <td>    1.624</td>\n",
       "</tr>\n",
       "<tr>\n",
       "  <th>loc2_06</th> <td>    0.8520</td> <td>    0.077</td> <td>   11.021</td> <td> 0.000</td> <td>    0.700</td> <td>    1.004</td>\n",
       "</tr>\n",
       "<tr>\n",
       "  <th>loc2_17</th> <td>    0.8602</td> <td>    0.300</td> <td>    2.866</td> <td> 0.004</td> <td>    0.272</td> <td>    1.449</td>\n",
       "</tr>\n",
       "<tr>\n",
       "  <th>loc2_01</th> <td>    1.0640</td> <td>    0.104</td> <td>   10.238</td> <td> 0.000</td> <td>    0.860</td> <td>    1.268</td>\n",
       "</tr>\n",
       "<tr>\n",
       "  <th>loc2_23</th> <td>    0.0667</td> <td>    0.117</td> <td>    0.571</td> <td> 0.568</td> <td>   -0.162</td> <td>    0.296</td>\n",
       "</tr>\n",
       "<tr>\n",
       "  <th>loc2_54</th> <td>   -0.8599</td> <td>    0.231</td> <td>   -3.719</td> <td> 0.000</td> <td>   -1.313</td> <td>   -0.407</td>\n",
       "</tr>\n",
       "<tr>\n",
       "  <th>para1</th>   <td>    0.0368</td> <td>    0.005</td> <td>    8.098</td> <td> 0.000</td> <td>    0.028</td> <td>    0.046</td>\n",
       "</tr>\n",
       "<tr>\n",
       "  <th>loc2_73</th> <td>    1.3114</td> <td>    0.150</td> <td>    8.731</td> <td> 0.000</td> <td>    1.017</td> <td>    1.606</td>\n",
       "</tr>\n",
       "<tr>\n",
       "  <th>loc2_89</th> <td>    0.8560</td> <td>    0.116</td> <td>    7.404</td> <td> 0.000</td> <td>    0.629</td> <td>    1.083</td>\n",
       "</tr>\n",
       "<tr>\n",
       "  <th>para3</th>   <td>-9.141e-06</td> <td> 2.77e-06</td> <td>   -3.304</td> <td> 0.001</td> <td>-1.46e-05</td> <td>-3.72e-06</td>\n",
       "</tr>\n",
       "<tr>\n",
       "  <th>loc2_95</th> <td>    1.5986</td> <td>    0.154</td> <td>   10.378</td> <td> 0.000</td> <td>    1.297</td> <td>    1.901</td>\n",
       "</tr>\n",
       "<tr>\n",
       "  <th>loc2_40</th> <td>    0.8160</td> <td>    0.159</td> <td>    5.130</td> <td> 0.000</td> <td>    0.504</td> <td>    1.128</td>\n",
       "</tr>\n",
       "<tr>\n",
       "  <th>loc2_09</th> <td>    1.2400</td> <td>    0.116</td> <td>   10.701</td> <td> 0.000</td> <td>    1.013</td> <td>    1.467</td>\n",
       "</tr>\n",
       "<tr>\n",
       "  <th>loc2_63</th> <td>    1.1547</td> <td>    0.147</td> <td>    7.846</td> <td> 0.000</td> <td>    0.866</td> <td>    1.443</td>\n",
       "</tr>\n",
       "<tr>\n",
       "  <th>loc2_16</th> <td>    1.0388</td> <td>    0.125</td> <td>    8.325</td> <td> 0.000</td> <td>    0.794</td> <td>    1.283</td>\n",
       "</tr>\n",
       "<tr>\n",
       "  <th>loc2_0T</th> <td>   -1.7166</td> <td>    1.586</td> <td>   -1.082</td> <td> 0.279</td> <td>   -4.826</td> <td>    1.393</td>\n",
       "</tr>\n",
       "<tr>\n",
       "  <th>loc2_02</th> <td>    0.5574</td> <td>    0.201</td> <td>    2.775</td> <td> 0.006</td> <td>    0.164</td> <td>    0.951</td>\n",
       "</tr>\n",
       "</table>\n",
       "<table class=\"simpletable\">\n",
       "<tr>\n",
       "  <th>Omnibus:</th>       <td>1388.686</td> <th>  Durbin-Watson:     </th> <td>   1.831</td>\n",
       "</tr>\n",
       "<tr>\n",
       "  <th>Prob(Omnibus):</th>  <td> 0.000</td>  <th>  Jarque-Bera (JB):  </th> <td>5539.035</td>\n",
       "</tr>\n",
       "<tr>\n",
       "  <th>Skew:</th>           <td>-0.648</td>  <th>  Prob(JB):          </th> <td>    0.00</td>\n",
       "</tr>\n",
       "<tr>\n",
       "  <th>Kurtosis:</th>       <td> 6.408</td>  <th>  Cond. No.          </th> <td>1.25e+06</td>\n",
       "</tr>\n",
       "</table><br/><br/>Warnings:<br/>[1] Standard Errors assume that the covariance matrix of the errors is correctly specified.<br/>[2] The condition number is large, 1.25e+06. This might indicate that there are<br/>strong multicollinearity or other numerical problems."
      ],
      "text/plain": [
       "<class 'statsmodels.iolib.summary.Summary'>\n",
       "\"\"\"\n",
       "                                 OLS Regression Results                                \n",
       "=======================================================================================\n",
       "Dep. Variable:              log_price   R-squared (uncentered):                   0.929\n",
       "Model:                            OLS   Adj. R-squared (uncentered):              0.929\n",
       "Method:                 Least Squares   F-statistic:                              5680.\n",
       "Date:                Sun, 22 May 2022   Prob (F-statistic):                        0.00\n",
       "Time:                        21:12:39   Log-Likelihood:                         -18782.\n",
       "No. Observations:               10000   AIC:                                  3.761e+04\n",
       "Df Residuals:                    9977   BIC:                                  3.778e+04\n",
       "Df Model:                          23                                                  \n",
       "Covariance Type:            nonrobust                                                  \n",
       "==============================================================================\n",
       "                 coef    std err          t      P>|t|      [0.025      0.975]\n",
       "------------------------------------------------------------------------------\n",
       "para4          0.2761      0.004     64.227      0.000       0.268       0.285\n",
       "para2          0.0059   5.47e-05    107.633      0.000       0.006       0.006\n",
       "loc1_5         1.1713      0.059     19.771      0.000       1.055       1.287\n",
       "loc2_19        1.1242      0.132      8.523      0.000       0.866       1.383\n",
       "loc1_2         0.9391      0.047     20.134      0.000       0.848       1.030\n",
       "loc2_35        1.4631      0.147      9.953      0.000       1.175       1.751\n",
       "loc2_39        1.3642      0.133     10.286      0.000       1.104       1.624\n",
       "loc2_06        0.8520      0.077     11.021      0.000       0.700       1.004\n",
       "loc2_17        0.8602      0.300      2.866      0.004       0.272       1.449\n",
       "loc2_01        1.0640      0.104     10.238      0.000       0.860       1.268\n",
       "loc2_23        0.0667      0.117      0.571      0.568      -0.162       0.296\n",
       "loc2_54       -0.8599      0.231     -3.719      0.000      -1.313      -0.407\n",
       "para1          0.0368      0.005      8.098      0.000       0.028       0.046\n",
       "loc2_73        1.3114      0.150      8.731      0.000       1.017       1.606\n",
       "loc2_89        0.8560      0.116      7.404      0.000       0.629       1.083\n",
       "para3      -9.141e-06   2.77e-06     -3.304      0.001   -1.46e-05   -3.72e-06\n",
       "loc2_95        1.5986      0.154     10.378      0.000       1.297       1.901\n",
       "loc2_40        0.8160      0.159      5.130      0.000       0.504       1.128\n",
       "loc2_09        1.2400      0.116     10.701      0.000       1.013       1.467\n",
       "loc2_63        1.1547      0.147      7.846      0.000       0.866       1.443\n",
       "loc2_16        1.0388      0.125      8.325      0.000       0.794       1.283\n",
       "loc2_0T       -1.7166      1.586     -1.082      0.279      -4.826       1.393\n",
       "loc2_02        0.5574      0.201      2.775      0.006       0.164       0.951\n",
       "==============================================================================\n",
       "Omnibus:                     1388.686   Durbin-Watson:                   1.831\n",
       "Prob(Omnibus):                  0.000   Jarque-Bera (JB):             5539.035\n",
       "Skew:                          -0.648   Prob(JB):                         0.00\n",
       "Kurtosis:                       6.408   Cond. No.                     1.25e+06\n",
       "==============================================================================\n",
       "\n",
       "Warnings:\n",
       "[1] Standard Errors assume that the covariance matrix of the errors is correctly specified.\n",
       "[2] The condition number is large, 1.25e+06. This might indicate that there are\n",
       "strong multicollinearity or other numerical problems.\n",
       "\"\"\""
      ]
     },
     "execution_count": 10,
     "metadata": {},
     "output_type": "execute_result"
    }
   ],
   "source": [
    "stepwise_results = sm.OLS(y, x_selected).fit()\n",
    "stepwise_results.summary()"
   ]
  },
  {
   "cell_type": "markdown",
   "metadata": {},
   "source": [
    "Check multicollinearity:"
   ]
  },
  {
   "cell_type": "code",
   "execution_count": 11,
   "metadata": {},
   "outputs": [
    {
     "data": {
      "text/html": [
       "<div>\n",
       "<style scoped>\n",
       "    .dataframe tbody tr th:only-of-type {\n",
       "        vertical-align: middle;\n",
       "    }\n",
       "\n",
       "    .dataframe tbody tr th {\n",
       "        vertical-align: top;\n",
       "    }\n",
       "\n",
       "    .dataframe thead th {\n",
       "        text-align: right;\n",
       "    }\n",
       "</style>\n",
       "<table border=\"1\" class=\"dataframe\">\n",
       "  <thead>\n",
       "    <tr style=\"text-align: right;\">\n",
       "      <th></th>\n",
       "      <th>feature</th>\n",
       "      <th>VIF</th>\n",
       "    </tr>\n",
       "  </thead>\n",
       "  <tbody>\n",
       "    <tr>\n",
       "      <td>0</td>\n",
       "      <td>para4</td>\n",
       "      <td>6.834705</td>\n",
       "    </tr>\n",
       "    <tr>\n",
       "      <td>1</td>\n",
       "      <td>para2</td>\n",
       "      <td>2.966286</td>\n",
       "    </tr>\n",
       "    <tr>\n",
       "      <td>2</td>\n",
       "      <td>loc1_5</td>\n",
       "      <td>1.182363</td>\n",
       "    </tr>\n",
       "    <tr>\n",
       "      <td>3</td>\n",
       "      <td>loc2_19</td>\n",
       "      <td>1.032351</td>\n",
       "    </tr>\n",
       "    <tr>\n",
       "      <td>4</td>\n",
       "      <td>loc1_2</td>\n",
       "      <td>1.392146</td>\n",
       "    </tr>\n",
       "    <tr>\n",
       "      <td>5</td>\n",
       "      <td>loc2_35</td>\n",
       "      <td>1.015561</td>\n",
       "    </tr>\n",
       "    <tr>\n",
       "      <td>6</td>\n",
       "      <td>loc2_39</td>\n",
       "      <td>1.022671</td>\n",
       "    </tr>\n",
       "    <tr>\n",
       "      <td>7</td>\n",
       "      <td>loc2_06</td>\n",
       "      <td>1.080401</td>\n",
       "    </tr>\n",
       "    <tr>\n",
       "      <td>8</td>\n",
       "      <td>loc2_17</td>\n",
       "      <td>1.004689</td>\n",
       "    </tr>\n",
       "    <tr>\n",
       "      <td>9</td>\n",
       "      <td>loc2_01</td>\n",
       "      <td>1.036454</td>\n",
       "    </tr>\n",
       "    <tr>\n",
       "      <td>10</td>\n",
       "      <td>loc2_23</td>\n",
       "      <td>1.167509</td>\n",
       "    </tr>\n",
       "    <tr>\n",
       "      <td>11</td>\n",
       "      <td>loc2_54</td>\n",
       "      <td>1.064354</td>\n",
       "    </tr>\n",
       "    <tr>\n",
       "      <td>12</td>\n",
       "      <td>para1</td>\n",
       "      <td>1.165375</td>\n",
       "    </tr>\n",
       "    <tr>\n",
       "      <td>13</td>\n",
       "      <td>loc2_73</td>\n",
       "      <td>1.015258</td>\n",
       "    </tr>\n",
       "    <tr>\n",
       "      <td>14</td>\n",
       "      <td>loc2_89</td>\n",
       "      <td>1.032642</td>\n",
       "    </tr>\n",
       "    <tr>\n",
       "      <td>15</td>\n",
       "      <td>para3</td>\n",
       "      <td>4.742081</td>\n",
       "    </tr>\n",
       "    <tr>\n",
       "      <td>16</td>\n",
       "      <td>loc2_95</td>\n",
       "      <td>1.011048</td>\n",
       "    </tr>\n",
       "    <tr>\n",
       "      <td>17</td>\n",
       "      <td>loc2_40</td>\n",
       "      <td>1.017466</td>\n",
       "    </tr>\n",
       "    <tr>\n",
       "      <td>18</td>\n",
       "      <td>loc2_09</td>\n",
       "      <td>1.026609</td>\n",
       "    </tr>\n",
       "    <tr>\n",
       "      <td>19</td>\n",
       "      <td>loc2_63</td>\n",
       "      <td>1.026366</td>\n",
       "    </tr>\n",
       "    <tr>\n",
       "      <td>20</td>\n",
       "      <td>loc2_16</td>\n",
       "      <td>1.029342</td>\n",
       "    </tr>\n",
       "    <tr>\n",
       "      <td>21</td>\n",
       "      <td>loc2_0T</td>\n",
       "      <td>1.002308</td>\n",
       "    </tr>\n",
       "    <tr>\n",
       "      <td>22</td>\n",
       "      <td>loc2_02</td>\n",
       "      <td>1.012422</td>\n",
       "    </tr>\n",
       "  </tbody>\n",
       "</table>\n",
       "</div>"
      ],
      "text/plain": [
       "    feature       VIF\n",
       "0     para4  6.834705\n",
       "1     para2  2.966286\n",
       "2    loc1_5  1.182363\n",
       "3   loc2_19  1.032351\n",
       "4    loc1_2  1.392146\n",
       "5   loc2_35  1.015561\n",
       "6   loc2_39  1.022671\n",
       "7   loc2_06  1.080401\n",
       "8   loc2_17  1.004689\n",
       "9   loc2_01  1.036454\n",
       "10  loc2_23  1.167509\n",
       "11  loc2_54  1.064354\n",
       "12    para1  1.165375\n",
       "13  loc2_73  1.015258\n",
       "14  loc2_89  1.032642\n",
       "15    para3  4.742081\n",
       "16  loc2_95  1.011048\n",
       "17  loc2_40  1.017466\n",
       "18  loc2_09  1.026609\n",
       "19  loc2_63  1.026366\n",
       "20  loc2_16  1.029342\n",
       "21  loc2_0T  1.002308\n",
       "22  loc2_02  1.012422"
      ]
     },
     "execution_count": 11,
     "metadata": {},
     "output_type": "execute_result"
    }
   ],
   "source": [
    "from statsmodels.stats.outliers_influence import variance_inflation_factor\n",
    "# VIF dataframe\n",
    "vif_data = pd.DataFrame()\n",
    "vif_data[\"feature\"] = x_selected.columns\n",
    "\n",
    "vif_data[\"VIF\"] = [variance_inflation_factor(x_selected.values, i)\n",
    "                          for i in range(len(x_selected.columns))]\n",
    "vif_data"
   ]
  },
  {
   "cell_type": "markdown",
   "metadata": {},
   "source": [
    "Para3 and Para4 are highly correlated, and therefore Para4 is dropped. Also, Loc2_23 and loc2_0T are dropped as P-values are higher than 0.05."
   ]
  },
  {
   "cell_type": "code",
   "execution_count": 12,
   "metadata": {},
   "outputs": [
    {
     "data": {
      "text/html": [
       "<table class=\"simpletable\">\n",
       "<caption>OLS Regression Results</caption>\n",
       "<tr>\n",
       "  <th>Dep. Variable:</th>        <td>log_price</td>    <th>  R-squared (uncentered):</th>      <td>   0.900</td> \n",
       "</tr>\n",
       "<tr>\n",
       "  <th>Model:</th>                   <td>OLS</td>       <th>  Adj. R-squared (uncentered):</th> <td>   0.899</td> \n",
       "</tr>\n",
       "<tr>\n",
       "  <th>Method:</th>             <td>Least Squares</td>  <th>  F-statistic:       </th>          <td>   4470.</td> \n",
       "</tr>\n",
       "<tr>\n",
       "  <th>Date:</th>             <td>Sun, 22 May 2022</td> <th>  Prob (F-statistic):</th>           <td>  0.00</td>  \n",
       "</tr>\n",
       "<tr>\n",
       "  <th>Time:</th>                 <td>21:16:32</td>     <th>  Log-Likelihood:    </th>          <td> -20519.</td> \n",
       "</tr>\n",
       "<tr>\n",
       "  <th>No. Observations:</th>      <td> 10000</td>      <th>  AIC:               </th>          <td>4.108e+04</td>\n",
       "</tr>\n",
       "<tr>\n",
       "  <th>Df Residuals:</th>          <td>  9980</td>      <th>  BIC:               </th>          <td>4.122e+04</td>\n",
       "</tr>\n",
       "<tr>\n",
       "  <th>Df Model:</th>              <td>    20</td>      <th>                     </th>              <td> </td>    \n",
       "</tr>\n",
       "<tr>\n",
       "  <th>Covariance Type:</th>      <td>nonrobust</td>    <th>                     </th>              <td> </td>    \n",
       "</tr>\n",
       "</table>\n",
       "<table class=\"simpletable\">\n",
       "<tr>\n",
       "     <td></td>        <th>coef</th>     <th>std err</th>      <th>t</th>      <th>P>|t|</th>  <th>[0.025</th>    <th>0.975]</th>  \n",
       "</tr>\n",
       "<tr>\n",
       "  <th>para2</th>   <td>    0.0075</td> <td> 5.73e-05</td> <td>  131.597</td> <td> 0.000</td> <td>    0.007</td> <td>    0.008</td>\n",
       "</tr>\n",
       "<tr>\n",
       "  <th>loc1_5</th>  <td>    1.5123</td> <td>    0.070</td> <td>   21.547</td> <td> 0.000</td> <td>    1.375</td> <td>    1.650</td>\n",
       "</tr>\n",
       "<tr>\n",
       "  <th>loc2_19</th> <td>    1.5563</td> <td>    0.157</td> <td>    9.932</td> <td> 0.000</td> <td>    1.249</td> <td>    1.863</td>\n",
       "</tr>\n",
       "<tr>\n",
       "  <th>loc1_2</th>  <td>    1.3132</td> <td>    0.052</td> <td>   25.336</td> <td> 0.000</td> <td>    1.212</td> <td>    1.415</td>\n",
       "</tr>\n",
       "<tr>\n",
       "  <th>loc2_35</th> <td>    1.5045</td> <td>    0.175</td> <td>    8.604</td> <td> 0.000</td> <td>    1.162</td> <td>    1.847</td>\n",
       "</tr>\n",
       "<tr>\n",
       "  <th>loc2_39</th> <td>    1.8914</td> <td>    0.157</td> <td>   12.012</td> <td> 0.000</td> <td>    1.583</td> <td>    2.200</td>\n",
       "</tr>\n",
       "<tr>\n",
       "  <th>loc2_06</th> <td>    1.1829</td> <td>    0.092</td> <td>   12.893</td> <td> 0.000</td> <td>    1.003</td> <td>    1.363</td>\n",
       "</tr>\n",
       "<tr>\n",
       "  <th>loc2_17</th> <td>    1.3029</td> <td>    0.357</td> <td>    3.650</td> <td> 0.000</td> <td>    0.603</td> <td>    2.003</td>\n",
       "</tr>\n",
       "<tr>\n",
       "  <th>loc2_01</th> <td>    1.5025</td> <td>    0.123</td> <td>   12.181</td> <td> 0.000</td> <td>    1.261</td> <td>    1.744</td>\n",
       "</tr>\n",
       "<tr>\n",
       "  <th>loc2_54</th> <td>   -1.2083</td> <td>    0.275</td> <td>   -4.395</td> <td> 0.000</td> <td>   -1.747</td> <td>   -0.669</td>\n",
       "</tr>\n",
       "<tr>\n",
       "  <th>para1</th>   <td>    0.0443</td> <td>    0.005</td> <td>    8.188</td> <td> 0.000</td> <td>    0.034</td> <td>    0.055</td>\n",
       "</tr>\n",
       "<tr>\n",
       "  <th>loc2_73</th> <td>    1.5179</td> <td>    0.179</td> <td>    8.497</td> <td> 0.000</td> <td>    1.168</td> <td>    1.868</td>\n",
       "</tr>\n",
       "<tr>\n",
       "  <th>loc2_89</th> <td>    0.7479</td> <td>    0.138</td> <td>    5.439</td> <td> 0.000</td> <td>    0.478</td> <td>    1.017</td>\n",
       "</tr>\n",
       "<tr>\n",
       "  <th>para3</th>   <td>    0.0001</td> <td> 2.18e-06</td> <td>   56.594</td> <td> 0.000</td> <td>    0.000</td> <td>    0.000</td>\n",
       "</tr>\n",
       "<tr>\n",
       "  <th>loc2_95</th> <td>    1.6356</td> <td>    0.183</td> <td>    8.927</td> <td> 0.000</td> <td>    1.276</td> <td>    1.995</td>\n",
       "</tr>\n",
       "<tr>\n",
       "  <th>loc2_40</th> <td>    0.9895</td> <td>    0.189</td> <td>    5.231</td> <td> 0.000</td> <td>    0.619</td> <td>    1.360</td>\n",
       "</tr>\n",
       "<tr>\n",
       "  <th>loc2_09</th> <td>    1.7153</td> <td>    0.138</td> <td>   12.470</td> <td> 0.000</td> <td>    1.446</td> <td>    1.985</td>\n",
       "</tr>\n",
       "<tr>\n",
       "  <th>loc2_63</th> <td>    1.6993</td> <td>    0.175</td> <td>    9.723</td> <td> 0.000</td> <td>    1.357</td> <td>    2.042</td>\n",
       "</tr>\n",
       "<tr>\n",
       "  <th>loc2_16</th> <td>    1.6752</td> <td>    0.148</td> <td>   11.321</td> <td> 0.000</td> <td>    1.385</td> <td>    1.965</td>\n",
       "</tr>\n",
       "<tr>\n",
       "  <th>loc2_02</th> <td>    1.1250</td> <td>    0.239</td> <td>    4.713</td> <td> 0.000</td> <td>    0.657</td> <td>    1.593</td>\n",
       "</tr>\n",
       "</table>\n",
       "<table class=\"simpletable\">\n",
       "<tr>\n",
       "  <th>Omnibus:</th>       <td>2069.049</td> <th>  Durbin-Watson:     </th> <td>   1.746</td> \n",
       "</tr>\n",
       "<tr>\n",
       "  <th>Prob(Omnibus):</th>  <td> 0.000</td>  <th>  Jarque-Bera (JB):  </th> <td>11861.165</td>\n",
       "</tr>\n",
       "<tr>\n",
       "  <th>Skew:</th>           <td>-0.872</td>  <th>  Prob(JB):          </th> <td>    0.00</td> \n",
       "</tr>\n",
       "<tr>\n",
       "  <th>Kurtosis:</th>       <td> 8.043</td>  <th>  Cond. No.          </th> <td>2.36e+05</td> \n",
       "</tr>\n",
       "</table><br/><br/>Warnings:<br/>[1] Standard Errors assume that the covariance matrix of the errors is correctly specified.<br/>[2] The condition number is large, 2.36e+05. This might indicate that there are<br/>strong multicollinearity or other numerical problems."
      ],
      "text/plain": [
       "<class 'statsmodels.iolib.summary.Summary'>\n",
       "\"\"\"\n",
       "                                 OLS Regression Results                                \n",
       "=======================================================================================\n",
       "Dep. Variable:              log_price   R-squared (uncentered):                   0.900\n",
       "Model:                            OLS   Adj. R-squared (uncentered):              0.899\n",
       "Method:                 Least Squares   F-statistic:                              4470.\n",
       "Date:                Sun, 22 May 2022   Prob (F-statistic):                        0.00\n",
       "Time:                        21:16:32   Log-Likelihood:                         -20519.\n",
       "No. Observations:               10000   AIC:                                  4.108e+04\n",
       "Df Residuals:                    9980   BIC:                                  4.122e+04\n",
       "Df Model:                          20                                                  \n",
       "Covariance Type:            nonrobust                                                  \n",
       "==============================================================================\n",
       "                 coef    std err          t      P>|t|      [0.025      0.975]\n",
       "------------------------------------------------------------------------------\n",
       "para2          0.0075   5.73e-05    131.597      0.000       0.007       0.008\n",
       "loc1_5         1.5123      0.070     21.547      0.000       1.375       1.650\n",
       "loc2_19        1.5563      0.157      9.932      0.000       1.249       1.863\n",
       "loc1_2         1.3132      0.052     25.336      0.000       1.212       1.415\n",
       "loc2_35        1.5045      0.175      8.604      0.000       1.162       1.847\n",
       "loc2_39        1.8914      0.157     12.012      0.000       1.583       2.200\n",
       "loc2_06        1.1829      0.092     12.893      0.000       1.003       1.363\n",
       "loc2_17        1.3029      0.357      3.650      0.000       0.603       2.003\n",
       "loc2_01        1.5025      0.123     12.181      0.000       1.261       1.744\n",
       "loc2_54       -1.2083      0.275     -4.395      0.000      -1.747      -0.669\n",
       "para1          0.0443      0.005      8.188      0.000       0.034       0.055\n",
       "loc2_73        1.5179      0.179      8.497      0.000       1.168       1.868\n",
       "loc2_89        0.7479      0.138      5.439      0.000       0.478       1.017\n",
       "para3          0.0001   2.18e-06     56.594      0.000       0.000       0.000\n",
       "loc2_95        1.6356      0.183      8.927      0.000       1.276       1.995\n",
       "loc2_40        0.9895      0.189      5.231      0.000       0.619       1.360\n",
       "loc2_09        1.7153      0.138     12.470      0.000       1.446       1.985\n",
       "loc2_63        1.6993      0.175      9.723      0.000       1.357       2.042\n",
       "loc2_16        1.6752      0.148     11.321      0.000       1.385       1.965\n",
       "loc2_02        1.1250      0.239      4.713      0.000       0.657       1.593\n",
       "==============================================================================\n",
       "Omnibus:                     2069.049   Durbin-Watson:                   1.746\n",
       "Prob(Omnibus):                  0.000   Jarque-Bera (JB):            11861.165\n",
       "Skew:                          -0.872   Prob(JB):                         0.00\n",
       "Kurtosis:                       8.043   Cond. No.                     2.36e+05\n",
       "==============================================================================\n",
       "\n",
       "Warnings:\n",
       "[1] Standard Errors assume that the covariance matrix of the errors is correctly specified.\n",
       "[2] The condition number is large, 2.36e+05. This might indicate that there are\n",
       "strong multicollinearity or other numerical problems.\n",
       "\"\"\""
      ]
     },
     "execution_count": 12,
     "metadata": {},
     "output_type": "execute_result"
    }
   ],
   "source": [
    "x_selected_2=x_selected.drop(columns=['para4','loc2_23','loc2_0T'])\n",
    "stepwise_results_2 = sm.OLS(y, x_selected_2).fit()\n",
    "stepwise_results_2.summary()"
   ]
  },
  {
   "cell_type": "code",
   "execution_count": 14,
   "metadata": {},
   "outputs": [
    {
     "data": {
      "text/html": [
       "<div>\n",
       "<style scoped>\n",
       "    .dataframe tbody tr th:only-of-type {\n",
       "        vertical-align: middle;\n",
       "    }\n",
       "\n",
       "    .dataframe tbody tr th {\n",
       "        vertical-align: top;\n",
       "    }\n",
       "\n",
       "    .dataframe thead th {\n",
       "        text-align: right;\n",
       "    }\n",
       "</style>\n",
       "<table border=\"1\" class=\"dataframe\">\n",
       "  <thead>\n",
       "    <tr style=\"text-align: right;\">\n",
       "      <th></th>\n",
       "      <th>feature</th>\n",
       "      <th>VIF</th>\n",
       "    </tr>\n",
       "  </thead>\n",
       "  <tbody>\n",
       "    <tr>\n",
       "      <td>0</td>\n",
       "      <td>para2</td>\n",
       "      <td>2.301032</td>\n",
       "    </tr>\n",
       "    <tr>\n",
       "      <td>1</td>\n",
       "      <td>loc1_5</td>\n",
       "      <td>1.172862</td>\n",
       "    </tr>\n",
       "    <tr>\n",
       "      <td>2</td>\n",
       "      <td>loc2_19</td>\n",
       "      <td>1.029605</td>\n",
       "    </tr>\n",
       "    <tr>\n",
       "      <td>3</td>\n",
       "      <td>loc1_2</td>\n",
       "      <td>1.215053</td>\n",
       "    </tr>\n",
       "    <tr>\n",
       "      <td>4</td>\n",
       "      <td>loc2_35</td>\n",
       "      <td>1.015525</td>\n",
       "    </tr>\n",
       "    <tr>\n",
       "      <td>5</td>\n",
       "      <td>loc2_39</td>\n",
       "      <td>1.018756</td>\n",
       "    </tr>\n",
       "    <tr>\n",
       "      <td>6</td>\n",
       "      <td>loc2_06</td>\n",
       "      <td>1.075564</td>\n",
       "    </tr>\n",
       "    <tr>\n",
       "      <td>7</td>\n",
       "      <td>loc2_17</td>\n",
       "      <td>1.004159</td>\n",
       "    </tr>\n",
       "    <tr>\n",
       "      <td>8</td>\n",
       "      <td>loc2_01</td>\n",
       "      <td>1.031977</td>\n",
       "    </tr>\n",
       "    <tr>\n",
       "      <td>9</td>\n",
       "      <td>loc2_54</td>\n",
       "      <td>1.063766</td>\n",
       "    </tr>\n",
       "    <tr>\n",
       "      <td>10</td>\n",
       "      <td>para1</td>\n",
       "      <td>1.164613</td>\n",
       "    </tr>\n",
       "    <tr>\n",
       "      <td>11</td>\n",
       "      <td>loc2_73</td>\n",
       "      <td>1.014781</td>\n",
       "    </tr>\n",
       "    <tr>\n",
       "      <td>12</td>\n",
       "      <td>loc2_89</td>\n",
       "      <td>1.032380</td>\n",
       "    </tr>\n",
       "    <tr>\n",
       "      <td>13</td>\n",
       "      <td>para3</td>\n",
       "      <td>2.076580</td>\n",
       "    </tr>\n",
       "    <tr>\n",
       "      <td>14</td>\n",
       "      <td>loc2_95</td>\n",
       "      <td>1.011024</td>\n",
       "    </tr>\n",
       "    <tr>\n",
       "      <td>15</td>\n",
       "      <td>loc2_40</td>\n",
       "      <td>1.017160</td>\n",
       "    </tr>\n",
       "    <tr>\n",
       "      <td>16</td>\n",
       "      <td>loc2_09</td>\n",
       "      <td>1.022418</td>\n",
       "    </tr>\n",
       "    <tr>\n",
       "      <td>17</td>\n",
       "      <td>loc2_63</td>\n",
       "      <td>1.022967</td>\n",
       "    </tr>\n",
       "    <tr>\n",
       "      <td>18</td>\n",
       "      <td>loc2_16</td>\n",
       "      <td>1.022876</td>\n",
       "    </tr>\n",
       "    <tr>\n",
       "      <td>19</td>\n",
       "      <td>loc2_02</td>\n",
       "      <td>1.010469</td>\n",
       "    </tr>\n",
       "  </tbody>\n",
       "</table>\n",
       "</div>"
      ],
      "text/plain": [
       "    feature       VIF\n",
       "0     para2  2.301032\n",
       "1    loc1_5  1.172862\n",
       "2   loc2_19  1.029605\n",
       "3    loc1_2  1.215053\n",
       "4   loc2_35  1.015525\n",
       "5   loc2_39  1.018756\n",
       "6   loc2_06  1.075564\n",
       "7   loc2_17  1.004159\n",
       "8   loc2_01  1.031977\n",
       "9   loc2_54  1.063766\n",
       "10    para1  1.164613\n",
       "11  loc2_73  1.014781\n",
       "12  loc2_89  1.032380\n",
       "13    para3  2.076580\n",
       "14  loc2_95  1.011024\n",
       "15  loc2_40  1.017160\n",
       "16  loc2_09  1.022418\n",
       "17  loc2_63  1.022967\n",
       "18  loc2_16  1.022876\n",
       "19  loc2_02  1.010469"
      ]
     },
     "execution_count": 14,
     "metadata": {},
     "output_type": "execute_result"
    }
   ],
   "source": [
    "vif_data_2 = pd.DataFrame()\n",
    "vif_data_2[\"feature\"] = x_selected_2.columns\n",
    "\n",
    "vif_data_2[\"VIF\"] = [variance_inflation_factor(x_selected_2.values, i)\n",
    "                          for i in range(len(x_selected_2.columns))]\n",
    "vif_data_2"
   ]
  },
  {
   "cell_type": "code",
   "execution_count": 15,
   "metadata": {},
   "outputs": [
    {
     "data": {
      "text/plain": [
       "0       1000.925363\n",
       "1         19.075642\n",
       "2          1.573786\n",
       "3         14.594010\n",
       "4        612.462278\n",
       "           ...     \n",
       "9995      38.859022\n",
       "9996      28.665629\n",
       "9997      40.747095\n",
       "9998     471.537885\n",
       "9999     118.647636\n",
       "Length: 10000, dtype: float64"
      ]
     },
     "execution_count": 15,
     "metadata": {},
     "output_type": "execute_result"
    }
   ],
   "source": [
    "y_pred = stepwise_results_2.predict(x_selected_2)\n",
    "y_pred_level=np.exp(y_pred)\n",
    "y_pred_level"
   ]
  },
  {
   "cell_type": "code",
   "execution_count": 16,
   "metadata": {},
   "outputs": [],
   "source": [
    "y_actual=df_Sklearn['price']"
   ]
  },
  {
   "cell_type": "code",
   "execution_count": 17,
   "metadata": {
    "scrolled": true
   },
   "outputs": [
    {
     "data": {
      "text/plain": [
       "2.6705314134865052e+16"
      ]
     },
     "execution_count": 17,
     "metadata": {},
     "output_type": "execute_result"
    }
   ],
   "source": [
    "stepwise_results_mse = np.sum((y_pred_level - y_actual)**2)/ x.shape[0]\n",
    "stepwise_results_mse"
   ]
  },
  {
   "cell_type": "code",
   "execution_count": 18,
   "metadata": {},
   "outputs": [],
   "source": [
    "df_results = pd.DataFrame({'Actual': y_actual, 'Predicted': y_pred_level})\n",
    "df_results['Residuals'] = abs(df_results['Actual']) - abs(df_results['Predicted'])\n",
    "df_results\n",
    "#df_results.to_csv('C:/Users/czlni/Desktop/avtualvspred.csv')\n",
    "\n",
    "df_results_log = pd.DataFrame({'Actual': y, 'Predicted': y_pred})\n",
    "df_results_log['Residuals'] = abs(df_results['Actual']) - abs(df_results['Predicted'])"
   ]
  },
  {
   "cell_type": "code",
   "execution_count": 22,
   "metadata": {},
   "outputs": [
    {
     "data": {
      "text/plain": [
       "Text(0.5, 1.0, 'Check for Linearity:\\n Actual Vs Predicted value on Log of Price')"
      ]
     },
     "execution_count": 22,
     "metadata": {},
     "output_type": "execute_result"
    },
    {
     "data": {
      "image/png": "[encoded data removed]",
      "text/plain": [
       "<Figure size 1008x360 with 1 Axes>"
      ]
     },
     "metadata": {
      "needs_background": "light"
     },
     "output_type": "display_data"
    }
   ],
   "source": [
    "# Check for Linearity\n",
    "f = plt.figure(figsize=(14,5))\n",
    "ax = f.add_subplot(121)\n",
    "sns.scatterplot(y,y_pred,ax=ax,color='r')\n",
    "ax.set_title('Check for Linearity:\\n Actual Vs Predicted value on Log of Price')"
   ]
  },
  {
   "cell_type": "code",
   "execution_count": 21,
   "metadata": {},
   "outputs": [
    {
     "data": {
      "text/plain": [
       "Text(0.5, 1.0, 'Check for Linearity:\\n Actual Vs Predicted value on Original Price')"
      ]
     },
     "execution_count": 21,
     "metadata": {},
     "output_type": "execute_result"
    },
    {
     "data": {
      "image/png": "[encoded data removed]",
      "text/plain": [
       "<Figure size 1008x360 with 1 Axes>"
      ]
     },
     "metadata": {
      "needs_background": "light"
     },
     "output_type": "display_data"
    }
   ],
   "source": [
    "f = plt.figure(figsize=(14,5))\n",
    "ax = f.add_subplot(121)\n",
    "sns.scatterplot(y_actual,y_pred_level,ax=ax,color='r')\n",
    "ax.set_title('Check for Linearity:\\n Actual Vs Predicted value on Original Price')"
   ]
  },
  {
   "cell_type": "markdown",
   "metadata": {},
   "source": [
    "From the plots above, we can see that the model overall underpredicts a lot on the original price. It shows significant nonlinearity. Check the linearity between price and input variables below:"
   ]
  },
  {
   "cell_type": "code",
   "execution_count": 25,
   "metadata": {},
   "outputs": [
    {
     "data": {
      "text/plain": [
       "Text(0.5, 1.0, 'Check for Linearity:\\n para1 Vs price')"
      ]
     },
     "execution_count": 25,
     "metadata": {},
     "output_type": "execute_result"
    },
    {
     "data": {
      "image/png": "[encoded data removed]",
      "text/plain": [
       "<Figure size 1008x360 with 1 Axes>"
      ]
     },
     "metadata": {
      "needs_background": "light"
     },
     "output_type": "display_data"
    }
   ],
   "source": [
    "f = plt.figure(figsize=(14,5))\n",
    "ax = f.add_subplot(121)\n",
    "sns.scatterplot(df_encode['para1'],df_encode['price'],ax=ax,color='r')\n",
    "ax.set_title('Check for Linearity:\\n para1 Vs price')"
   ]
  },
  {
   "cell_type": "code",
   "execution_count": 26,
   "metadata": {},
   "outputs": [
    {
     "data": {
      "text/plain": [
       "Text(0.5, 1.0, 'Check for Linearity:\\n para2 Vs price')"
      ]
     },
     "execution_count": 26,
     "metadata": {},
     "output_type": "execute_result"
    },
    {
     "data": {
      "image/png": "[encoded data removed]",
      "text/plain": [
       "<Figure size 1008x360 with 1 Axes>"
      ]
     },
     "metadata": {
      "needs_background": "light"
     },
     "output_type": "display_data"
    }
   ],
   "source": [
    "f = plt.figure(figsize=(14,5))\n",
    "ax = f.add_subplot(121)\n",
    "sns.scatterplot(df_encode['para2'],df_encode['price'],ax=ax,color='r')\n",
    "ax.set_title('Check for Linearity:\\n para2 Vs price')"
   ]
  },
  {
   "cell_type": "code",
   "execution_count": 27,
   "metadata": {},
   "outputs": [
    {
     "data": {
      "text/plain": [
       "Text(0.5, 1.0, 'Check for Linearity:\\n para4 Vs price')"
      ]
     },
     "execution_count": 27,
     "metadata": {},
     "output_type": "execute_result"
    },
    {
     "data": {
      "image/png": "[encoded data removed]",
      "text/plain": [
       "<Figure size 1008x360 with 1 Axes>"
      ]
     },
     "metadata": {
      "needs_background": "light"
     },
     "output_type": "display_data"
    }
   ],
   "source": [
    "f = plt.figure(figsize=(14,5))\n",
    "ax = f.add_subplot(121)\n",
    "sns.scatterplot(df_encode['para4'],df_encode['price'],ax=ax,color='r')\n",
    "ax.set_title('Check for Linearity:\\n para4 Vs price')"
   ]
  },
  {
   "cell_type": "markdown",
   "metadata": {},
   "source": [
    "From the plots above, we can see that the relationship between price and the numeric variables is nonlinear, and therefore regression tree method is considered. Given that para 3 and 4 have higher correlation, para 3 is not checked for linearity."
   ]
  }
 ],
 "metadata": {
  "kernelspec": {
   "display_name": "Python 3",
   "language": "python",
   "name": "python3"
  },
  "language_info": {
   "codemirror_mode": {
    "name": "ipython",
    "version": 3
   },
   "file_extension": ".py",
   "mimetype": "text/x-python",
   "name": "python",
   "nbconvert_exporter": "python",
   "pygments_lexer": "ipython3",
   "version": "3.7.4"
  }
 },
 "nbformat": 4,
 "nbformat_minor": 2
}
